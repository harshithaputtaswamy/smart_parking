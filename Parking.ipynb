{
 "cells": [
  {
   "cell_type": "markdown",
   "metadata": {
    "colab_type": "text",
    "id": "RxpJvkp0i45X"
   },
   "source": [
    "# Parking Space Detection\n",
    "Cloning M-RCNN repository"
   ]
  },
  {
   "cell_type": "code",
   "execution_count": 1,
   "metadata": {
    "colab": {
     "base_uri": "https://localhost:8080/",
     "height": 102
    },
    "colab_type": "code",
    "id": "biEeoxZ96mnf",
    "outputId": "514046f6-642c-4282-d347-e77df9a77aff"
   },
   "outputs": [
    {
     "name": "stderr",
     "output_type": "stream",
     "text": [
      "Cloning into 'Mask_RCNN'...\n"
     ]
    }
   ],
   "source": [
    "!git clone https://github.com/akTwelve/Mask_RCNN"
   ]
  },
  {
   "cell_type": "code",
   "execution_count": 2,
   "metadata": {},
   "outputs": [
    {
     "name": "stdout",
     "output_type": "stream",
     "text": [
      "Requirement already satisfied: scikit-image in c:\\users\\harshitha\\anaconda3\\lib\\site-packages (from -r requirements.txt (line 1)) (0.16.2)\n"
     ]
    },
    {
     "name": "stderr",
     "output_type": "stream",
     "text": [
      "WARNING: You are using pip version 21.0.1; however, version 24.1.2 is available.\n",
      "You should consider upgrading via the 'c:\\users\\harshitha\\anaconda3\\python.exe -m pip install --upgrade pip' command.\n"
     ]
    },
    {
     "name": "stdout",
     "output_type": "stream",
     "text": [
      "Requirement already satisfied: keras>=2.0.8 in c:\\users\\harshitha\\anaconda3\\lib\\site-packages (from -r requirements.txt (line 2)) (2.4.3)\n",
      "Requirement already satisfied: opencv-python in c:\\users\\harshitha\\anaconda3\\lib\\site-packages (from -r requirements.txt (line 3)) (4.4.0.46)\n",
      "Requirement already satisfied: matplotlib in c:\\users\\harshitha\\anaconda3\\lib\\site-packages (from -r requirements.txt (line 4)) (3.2.2)\n",
      "Requirement already satisfied: numpy in c:\\users\\harshitha\\anaconda3\\lib\\site-packages (from -r requirements.txt (line 5)) (1.18.5)\n",
      "Requirement already satisfied: gitpython in c:\\users\\harshitha\\anaconda3\\lib\\site-packages (from -r requirements.txt (line 6)) (3.1.43)\n",
      "Requirement already satisfied: shapely in c:\\users\\harshitha\\anaconda3\\lib\\site-packages (from -r requirements.txt (line 7)) (2.0.5)\n",
      "Requirement already satisfied: pyyaml in c:\\users\\harshitha\\anaconda3\\lib\\site-packages (from keras>=2.0.8->-r requirements.txt (line 2)) (5.3.1)\n",
      "Requirement already satisfied: scipy>=0.14 in c:\\users\\harshitha\\anaconda3\\lib\\site-packages (from keras>=2.0.8->-r requirements.txt (line 2)) (1.4.1)\n",
      "Requirement already satisfied: h5py in c:\\users\\harshitha\\anaconda3\\lib\\site-packages (from keras>=2.0.8->-r requirements.txt (line 2)) (2.10.0)\n",
      "Requirement already satisfied: gitdb<5,>=4.0.1 in c:\\users\\harshitha\\anaconda3\\lib\\site-packages (from gitpython->-r requirements.txt (line 6)) (4.0.11)\n",
      "Requirement already satisfied: smmap<6,>=3.0.1 in c:\\users\\harshitha\\anaconda3\\lib\\site-packages (from gitdb<5,>=4.0.1->gitpython->-r requirements.txt (line 6)) (5.0.1)\n",
      "Requirement already satisfied: pyparsing!=2.0.4,!=2.1.2,!=2.1.6,>=2.0.1 in c:\\users\\harshitha\\anaconda3\\lib\\site-packages (from matplotlib->-r requirements.txt (line 4)) (2.4.7)\n",
      "Requirement already satisfied: kiwisolver>=1.0.1 in c:\\users\\harshitha\\anaconda3\\lib\\site-packages (from matplotlib->-r requirements.txt (line 4)) (1.2.0)\n",
      "Requirement already satisfied: python-dateutil>=2.1 in c:\\users\\harshitha\\anaconda3\\lib\\site-packages (from matplotlib->-r requirements.txt (line 4)) (2.8.1)\n",
      "Requirement already satisfied: cycler>=0.10 in c:\\users\\harshitha\\anaconda3\\lib\\site-packages (from matplotlib->-r requirements.txt (line 4)) (0.10.0)\n",
      "Requirement already satisfied: six in c:\\users\\harshitha\\anaconda3\\lib\\site-packages (from cycler>=0.10->matplotlib->-r requirements.txt (line 4)) (1.15.0)\n",
      "Requirement already satisfied: imageio>=2.3.0 in c:\\users\\harshitha\\anaconda3\\lib\\site-packages (from scikit-image->-r requirements.txt (line 1)) (2.9.0)\n",
      "Requirement already satisfied: pillow>=4.3.0 in c:\\users\\harshitha\\anaconda3\\lib\\site-packages (from scikit-image->-r requirements.txt (line 1)) (7.2.0)\n",
      "Requirement already satisfied: networkx>=2.0 in c:\\users\\harshitha\\anaconda3\\lib\\site-packages (from scikit-image->-r requirements.txt (line 1)) (2.4)\n",
      "Requirement already satisfied: PyWavelets>=0.4.0 in c:\\users\\harshitha\\anaconda3\\lib\\site-packages (from scikit-image->-r requirements.txt (line 1)) (1.1.1)\n",
      "Requirement already satisfied: decorator>=4.3.0 in c:\\users\\harshitha\\anaconda3\\lib\\site-packages (from networkx>=2.0->scikit-image->-r requirements.txt (line 1)) (4.4.2)\n"
     ]
    }
   ],
   "source": [
    "!pip install -r requirements.txt"
   ]
  },
  {
   "cell_type": "markdown",
   "metadata": {
    "colab_type": "text",
    "id": "q6RVTOd-lqAw"
   },
   "source": [
    "### Importing required modules"
   ]
  },
  {
   "cell_type": "code",
   "execution_count": 3,
   "metadata": {},
   "outputs": [
    {
     "data": {
      "text/plain": [
       "'D:\\\\parking_lot'"
      ]
     },
     "execution_count": 3,
     "metadata": {},
     "output_type": "execute_result"
    }
   ],
   "source": [
    "import os\n",
    "os.getcwd()"
   ]
  },
  {
   "cell_type": "code",
   "execution_count": 4,
   "metadata": {
    "colab": {
     "base_uri": "https://localhost:8080/",
     "height": 97
    },
    "colab_type": "code",
    "id": "KmZsqYiM6rDN",
    "outputId": "6ad54ce6-4adf-4b55-f889-1530d489e58e"
   },
   "outputs": [],
   "source": [
    "import os\n",
    "os.chdir(\"Mask_RCNN/\")\n",
    "import numpy as np\n",
    "import cv2\n",
    "import mrcnn.config\n",
    "import mrcnn.utils\n",
    "from mrcnn.model import MaskRCNN\n",
    "from pathlib import Path\n",
    "# from google.colab.patches import cv2_imshow\n",
    "import pickle\n",
    "\n",
    "from shapely.geometry import box\n",
    "from shapely.geometry import Polygon as shapely_poly\n",
    "from IPython.display import clear_output, Image, display, HTML\n",
    "import io\n",
    "import base64\n",
    "%matplotlib inline"
   ]
  },
  {
   "cell_type": "code",
   "execution_count": 5,
   "metadata": {},
   "outputs": [
    {
     "data": {
      "text/plain": [
       "'D:\\\\parking_lot\\\\Mask_RCNN'"
      ]
     },
     "execution_count": 5,
     "metadata": {},
     "output_type": "execute_result"
    }
   ],
   "source": [
    "os.getcwd()"
   ]
  },
  {
   "cell_type": "markdown",
   "metadata": {
    "colab_type": "text",
    "id": "yUArvFy4lups"
   },
   "source": [
    "### Configuring M-RCNN"
   ]
  },
  {
   "cell_type": "code",
   "execution_count": 6,
   "metadata": {
    "colab": {
     "base_uri": "https://localhost:8080/",
     "height": 921
    },
    "colab_type": "code",
    "id": "kNhNipSe80rM",
    "outputId": "e845e521-f734-4c60-f81f-df2b25ad8e4c"
   },
   "outputs": [
    {
     "name": "stdout",
     "output_type": "stream",
     "text": [
      "\n",
      "Configurations:\n",
      "BACKBONE                       resnet101\n",
      "BACKBONE_STRIDES               [4, 8, 16, 32, 64]\n",
      "BATCH_SIZE                     1\n",
      "BBOX_STD_DEV                   [0.1 0.1 0.2 0.2]\n",
      "COMPUTE_BACKBONE_SHAPE         None\n",
      "DETECTION_MAX_INSTANCES        100\n",
      "DETECTION_MIN_CONFIDENCE       0.7\n",
      "DETECTION_NMS_THRESHOLD        0.3\n",
      "FPN_CLASSIF_FC_LAYERS_SIZE     1024\n",
      "GPU_COUNT                      1\n",
      "GRADIENT_CLIP_NORM             5.0\n",
      "IMAGES_PER_GPU                 1\n",
      "IMAGE_CHANNEL_COUNT            3\n",
      "IMAGE_MAX_DIM                  1024\n",
      "IMAGE_META_SIZE                93\n",
      "IMAGE_MIN_DIM                  800\n",
      "IMAGE_MIN_SCALE                0\n",
      "IMAGE_RESIZE_MODE              square\n",
      "IMAGE_SHAPE                    [1024 1024    3]\n",
      "LEARNING_MOMENTUM              0.9\n",
      "LEARNING_RATE                  0.001\n",
      "LOSS_WEIGHTS                   {'rpn_class_loss': 1.0, 'rpn_bbox_loss': 1.0, 'mrcnn_class_loss': 1.0, 'mrcnn_bbox_loss': 1.0, 'mrcnn_mask_loss': 1.0}\n",
      "MASK_POOL_SIZE                 14\n",
      "MASK_SHAPE                     [28, 28]\n",
      "MAX_GT_INSTANCES               100\n",
      "MEAN_PIXEL                     [123.7 116.8 103.9]\n",
      "MINI_MASK_SHAPE                (56, 56)\n",
      "NAME                           coco_pretrained_model_config\n",
      "NUM_CLASSES                    81\n",
      "POOL_SIZE                      7\n",
      "POST_NMS_ROIS_INFERENCE        1000\n",
      "POST_NMS_ROIS_TRAINING         2000\n",
      "PRE_NMS_LIMIT                  6000\n",
      "ROI_POSITIVE_RATIO             0.33\n",
      "RPN_ANCHOR_RATIOS              [0.5, 1, 2]\n",
      "RPN_ANCHOR_SCALES              (32, 64, 128, 256, 512)\n",
      "RPN_ANCHOR_STRIDE              1\n",
      "RPN_BBOX_STD_DEV               [0.1 0.1 0.2 0.2]\n",
      "RPN_NMS_THRESHOLD              0.7\n",
      "RPN_TRAIN_ANCHORS_PER_IMAGE    256\n",
      "STEPS_PER_EPOCH                1000\n",
      "TOP_DOWN_PYRAMID_SIZE          256\n",
      "TRAIN_BN                       False\n",
      "TRAIN_ROIS_PER_IMAGE           200\n",
      "USE_MINI_MASK                  True\n",
      "USE_RPN_ROIS                   True\n",
      "VALIDATION_STEPS               50\n",
      "WEIGHT_DECAY                   0.0001\n",
      "\n",
      "\n"
     ]
    }
   ],
   "source": [
    "class Config(mrcnn.config.Config):\n",
    "    NAME = \"coco_pretrained_model_config\"\n",
    "    IMAGES_PER_GPU = 1\n",
    "    GPU_COUNT = 1\n",
    "    NUM_CLASSES = 81\n",
    "\n",
    "config = Config()\n",
    "config.display()"
   ]
  },
  {
   "cell_type": "code",
   "execution_count": 7,
   "metadata": {
    "colab": {},
    "colab_type": "code",
    "id": "Juh-Hok06_ia"
   },
   "outputs": [],
   "source": [
    "ROOT_DIR = Path(\".\")\n",
    "MODEL_DIR = os.path.join(ROOT_DIR, \"logs\")\n",
    "COCO_MODEL_PATH = os.path.join(ROOT_DIR, \"mask_rcnn_coco.h5\")"
   ]
  },
  {
   "cell_type": "code",
   "execution_count": 8,
   "metadata": {},
   "outputs": [
    {
     "name": "stdout",
     "output_type": "stream",
     "text": [
      ".\\logs\n",
      ".\n",
      ".\\mask_rcnn_coco.h5\n"
     ]
    }
   ],
   "source": [
    "print(MODEL_DIR)\n",
    "print(ROOT_DIR)\n",
    "print(COCO_MODEL_PATH)"
   ]
  },
  {
   "cell_type": "markdown",
   "metadata": {
    "colab_type": "text",
    "id": "LR1YNJarl9u1"
   },
   "source": [
    "### Download pre-trained Model"
   ]
  },
  {
   "cell_type": "code",
   "execution_count": 9,
   "metadata": {
    "colab": {
     "base_uri": "https://localhost:8080/",
     "height": 51
    },
    "colab_type": "code",
    "id": "v0BG-bXy7QV7",
    "outputId": "286c9cc0-6430-483b-99c4-5c6484ab7d8d"
   },
   "outputs": [
    {
     "name": "stdout",
     "output_type": "stream",
     "text": [
      "Downloading pretrained model to .\\mask_rcnn_coco.h5 ...\n",
      "... done downloading pretrained model!\n"
     ]
    }
   ],
   "source": [
    "if not os.path.exists(COCO_MODEL_PATH):\n",
    "    mrcnn.utils.download_trained_weights(COCO_MODEL_PATH)"
   ]
  },
  {
   "cell_type": "markdown",
   "metadata": {
    "colab_type": "text",
    "id": "8SSD6RRamH3e"
   },
   "source": [
    "# Loading pre-trained model "
   ]
  },
  {
   "cell_type": "code",
   "execution_count": 10,
   "metadata": {
    "colab": {
     "base_uri": "https://localhost:8080/",
     "height": 496
    },
    "colab_type": "code",
    "id": "zLO8g8dV7-ol",
    "outputId": "6c0f20d7-8810-47c6-8ae5-8d8476452d49"
   },
   "outputs": [
    {
     "name": "stdout",
     "output_type": "stream",
     "text": [
      "WARNING:tensorflow:From C:\\Users\\Harshitha\\anaconda3\\lib\\site-packages\\tensorflow\\python\\ops\\resource_variable_ops.py:1659: calling BaseResourceVariable.__init__ (from tensorflow.python.ops.resource_variable_ops) with constraint is deprecated and will be removed in a future version.\n",
      "Instructions for updating:\n",
      "If using Keras pass *_constraint arguments to layers.\n"
     ]
    }
   ],
   "source": [
    "model = MaskRCNN(mode=\"inference\", model_dir=MODEL_DIR, config=Config())"
   ]
  },
  {
   "cell_type": "code",
   "execution_count": 11,
   "metadata": {
    "colab": {
     "base_uri": "https://localhost:8080/",
     "height": 241
    },
    "colab_type": "code",
    "id": "_NDUyXt97-yy",
    "outputId": "0ac998e3-c420-4a9a-fb95-f19eb69a02ad"
   },
   "outputs": [],
   "source": [
    "model.load_weights(COCO_MODEL_PATH, by_name=True)"
   ]
  },
  {
   "cell_type": "markdown",
   "metadata": {
    "colab_type": "text",
    "id": "lDVLXxVCmNg7"
   },
   "source": [
    "#### Create data directory"
   ]
  },
  {
   "cell_type": "code",
   "execution_count": 14,
   "metadata": {
    "colab": {},
    "colab_type": "code",
    "id": "_HB3h8yb7kbq"
   },
   "outputs": [],
   "source": [
    "#  This will contain test videos and images\n",
    "if not os.path.exists(\"./data\"):\n",
    "    os.makedirs(\"./data\")"
   ]
  },
  {
   "cell_type": "markdown",
   "metadata": {
    "colab_type": "text",
    "id": "omx9aaHSmiam"
   },
   "source": [
    "### Uploading data\n",
    "upload your video file and praking regions file using the sidebar. See image for reference.\n",
    "\n",
    "![alt text](https://i.imgur.com/UMu9xV5.png)\n",
    "\n",
    "After uploading the files. Edit the cell below to load the correct files."
   ]
  },
  {
   "cell_type": "code",
   "execution_count": 15,
   "metadata": {},
   "outputs": [
    {
     "data": {
      "text/plain": [
       "'D:\\\\parking_lot\\\\Mask_RCNN'"
      ]
     },
     "execution_count": 15,
     "metadata": {},
     "output_type": "execute_result"
    }
   ],
   "source": [
    "os.getcwd()"
   ]
  },
  {
   "cell_type": "code",
   "execution_count": 16,
   "metadata": {
    "colab": {},
    "colab_type": "code",
    "id": "GSIGwFVbmVnY"
   },
   "outputs": [],
   "source": [
    "VIDEO_SOURCE = \"data/parking1.mp4\"\n",
    "PARKING_REGIONS = \"data/regions1.p\"\n",
    "with open(PARKING_REGIONS, 'rb') as f:\n",
    "    parked_car_boxes = pickle.load(f)"
   ]
  },
  {
   "cell_type": "markdown",
   "metadata": {
    "colab_type": "text",
    "id": "Va_mnJJqojTB"
   },
   "source": [
    "### Function to filter out car boxes"
   ]
  },
  {
   "cell_type": "code",
   "execution_count": 33,
   "metadata": {
    "colab": {},
    "colab_type": "code",
    "id": "xuIxxP4lEaIk"
   },
   "outputs": [],
   "source": [
    "def get_car_boxes(boxes, class_ids):\n",
    "    try:\n",
    "        car_boxes = []\n",
    "\n",
    "        for i, box in enumerate(boxes):\n",
    "            # If the detected object isn't a car / truck, skip it\n",
    "            if class_ids[i] in [3, 8, 6]:\n",
    "                car_boxes.append(box)\n",
    "\n",
    "        print(\"\\n\\nNo error until here - Point 2\\n\\n\")\n",
    "    except:\n",
    "        print('Error caught in get_car_boxes()')\n",
    "    \n",
    "    return np.array(car_boxes)"
   ]
  },
  {
   "cell_type": "markdown",
   "metadata": {
    "colab_type": "text",
    "id": "hMD6uopdom-z"
   },
   "source": [
    "### Function to compute IoU"
   ]
  },
  {
   "cell_type": "code",
   "execution_count": 32,
   "metadata": {
    "colab": {},
    "colab_type": "code",
    "id": "iA7WdE7U76oq"
   },
   "outputs": [],
   "source": [
    "def compute_overlaps(parked_car_boxes, car_boxes):\n",
    "    \n",
    "    try:\n",
    "        new_car_boxes = []\n",
    "        for box in car_boxes:\n",
    "            y1 = box[0]\n",
    "            x1 = box[1]\n",
    "            y2 = box[2]\n",
    "            x2 = box[3]\n",
    "\n",
    "            p1 = (x1, y1)\n",
    "            p2 = (x2, y1)\n",
    "            p3 = (x2, y2)\n",
    "            p4 = (x1, y2)\n",
    "            new_car_boxes.append([p1, p2, p3, p4])\n",
    "\n",
    "        overlaps = np.zeros((len(parked_car_boxes), len(new_car_boxes)))\n",
    "        for i in range(len(parked_car_boxes)):\n",
    "            for j in range(car_boxes.shape[0]):\n",
    "                pol1_xy = parked_car_boxes[i]\n",
    "                pol2_xy = new_car_boxes[j]\n",
    "                polygon1_shape = shapely_poly(pol1_xy)\n",
    "                polygon2_shape = shapely_poly(pol2_xy)\n",
    "\n",
    "                polygon_intersection = polygon1_shape.intersection(polygon2_shape).area\n",
    "                polygon_union = polygon1_shape.union(polygon2_shape).area\n",
    "                IOU = polygon_intersection / polygon_union\n",
    "                overlaps[i][j] = IOU\n",
    "\n",
    "        print(\"\\n\\nNo error until here - Point 3\\n\\n\")  \n",
    "    except:\n",
    "        print('Error caught in compute_overlaps()')\n",
    "    \n",
    "    return overlaps"
   ]
  },
  {
   "cell_type": "markdown",
   "metadata": {
    "colab_type": "text",
    "id": "o0s9J8PwoMiU"
   },
   "source": [
    "### Function to display processed images"
   ]
  },
  {
   "cell_type": "code",
   "execution_count": 31,
   "metadata": {
    "colab": {},
    "colab_type": "code",
    "id": "pmCYrOA2BAxN"
   },
   "outputs": [],
   "source": [
    "def arrayShow (imageArray):\n",
    "    try:\n",
    "        ret, png = cv2.imencode('.png', imageArray)\n",
    "        encoded = base64.b64encode(png)\n",
    "    except:\n",
    "        print('Error caught in arrayShow(): ', imageArray)\n",
    "\n",
    "    return Image(data=encoded.decode('ascii'))"
   ]
  },
  {
   "cell_type": "markdown",
   "metadata": {
    "colab_type": "text",
    "id": "5BkbSaJ3osS8"
   },
   "source": [
    "### Putting it all together"
   ]
  },
  {
   "cell_type": "code",
   "execution_count": null,
   "metadata": {
    "colab": {
     "base_uri": "https://localhost:8080/",
     "height": 711
    },
    "colab_type": "code",
    "id": "zkH4eJjdBBne",
    "outputId": "85d1cc6f-30fd-4eaa-e185-7462cd96a0c0"
   },
   "outputs": [
    {
     "name": "stdout",
     "output_type": "stream",
     "text": [
      "1261\n"
     ]
    }
   ],
   "source": [
    "alpha = 0.6\n",
    "video_capture = cv2.VideoCapture(VIDEO_SOURCE)\n",
    "cnt=0\n",
    "\n",
    "video_FourCC    = cv2.VideoWriter_fourcc('M','J','P','G')\n",
    "video_fps       = video_capture.get(cv2.CAP_PROP_FPS)\n",
    "video_size      = (int(video_capture.get(cv2.CAP_PROP_FRAME_WIDTH)),\n",
    "                    int(video_capture.get(cv2.CAP_PROP_FRAME_HEIGHT)))\n",
    "out = cv2.VideoWriter(\"../output.avi\", video_FourCC, video_fps, video_size)\n",
    "\n",
    "count = 0\n",
    "\n",
    "\n",
    "while video_capture.isOpened():\n",
    "\n",
    "    success, frame = video_capture.read()\n",
    "    overlay = frame.copy()\n",
    "    if not success:\n",
    "        break\n",
    "\n",
    "    rgb_image = frame[:, :, ::-1]\n",
    "    results = model.detect([rgb_image], verbose=0)\n",
    "\n",
    "    car_boxes = get_car_boxes(results[0]['rois'], results[0]['class_ids'])\n",
    "    overlaps = compute_overlaps(parked_car_boxes, car_boxes)\n",
    "\n",
    "    for parking_area, overlap_areas in zip(parked_car_boxes, overlaps):\n",
    "        max_IoU_overlap = np.max(overlap_areas)\n",
    "        if max_IoU_overlap < 0.15:\n",
    "            cv2.fillPoly(overlay, [np.array(parking_area)], (71, 27, 92))\n",
    "            free_space = True      \n",
    "    cv2.addWeighted(overlay, alpha, frame, 1 - alpha, 0, frame)\n",
    "\n",
    "\n",
    "    out.write(frame)\n",
    "\n",
    "    clear_output(wait=True)\n",
    "    img = arrayShow(frame)\n",
    "\n",
    "    if cv2.waitKey(1) & 0xFF == ord('q'):\n",
    "        break\n",
    "\n",
    "video_capture.release()\n",
    "out.release()\n",
    "cv2.destroyAllWindows()"
   ]
  },
  {
   "cell_type": "code",
   "execution_count": null,
   "metadata": {
    "colab": {},
    "colab_type": "code",
    "id": "WdfYs0uUENpd"
   },
   "outputs": [],
   "source": []
  }
 ],
 "metadata": {
  "accelerator": "GPU",
  "colab": {
   "collapsed_sections": [],
   "name": "Parking.ipynb",
   "provenance": []
  },
  "kernelspec": {
   "display_name": "Python 3",
   "language": "python",
   "name": "python3"
  },
  "language_info": {
   "codemirror_mode": {
    "name": "ipython",
    "version": 3
   },
   "file_extension": ".py",
   "mimetype": "text/x-python",
   "name": "python",
   "nbconvert_exporter": "python",
   "pygments_lexer": "ipython3",
   "version": "3.8.3"
  }
 },
 "nbformat": 4,
 "nbformat_minor": 1
}
